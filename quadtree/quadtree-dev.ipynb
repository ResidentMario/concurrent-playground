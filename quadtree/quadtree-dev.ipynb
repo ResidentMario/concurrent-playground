{
 "cells": [
  {
   "cell_type": "code",
   "execution_count": 1,
   "metadata": {},
   "outputs": [],
   "source": [
    "import geopandas as gpd\n",
    "collisions = gpd.read_file('nyc-collision-factors.geojson')"
   ]
  },
  {
   "cell_type": "code",
   "execution_count": 23,
   "metadata": {},
   "outputs": [],
   "source": [
    "nmin = 1\n",
    "gdf = collisions"
   ]
  },
  {
   "cell_type": "code",
   "execution_count": 31,
   "metadata": {},
   "outputs": [],
   "source": [
    "from shapely.geometry import Polygon"
   ]
  },
  {
   "cell_type": "code",
   "execution_count": 37,
   "metadata": {},
   "outputs": [],
   "source": [
    "from shapely.ops import cascaded_union"
   ]
  },
  {
   "cell_type": "code",
   "execution_count": 44,
   "metadata": {},
   "outputs": [
    {
     "data": {
      "text/plain": [
       "[(2.0, 2.0),\n",
       " (2.0, 1.0),\n",
       " (1.0, 1.0),\n",
       " (1.0, 2.0),\n",
       " (1.0, 3.0),\n",
       " (2.0, 3.0),\n",
       " (2.0, 2.0)]"
      ]
     },
     "execution_count": 44,
     "metadata": {},
     "output_type": "execute_result"
    }
   ],
   "source": [
    "list(cascaded_union(\n",
    "    [\n",
    "        square(1,1,2,2),\n",
    "        square(1,2,2,3)\n",
    "    ]\n",
    ").exterior.coords)"
   ]
  },
  {
   "cell_type": "code",
   "execution_count": 46,
   "metadata": {},
   "outputs": [
    {
     "data": {
      "image/svg+xml": [
       "<svg xmlns=\"http://www.w3.org/2000/svg\" xmlns:xlink=\"http://www.w3.org/1999/xlink\" width=\"100.0\" height=\"100.0\" viewBox=\"0.92 0.92 1.1600000000000001 2.16\" preserveAspectRatio=\"xMinYMin meet\"><g transform=\"matrix(1,0,0,-1,0,4.0)\"><path fill-rule=\"evenodd\" fill=\"#66cc99\" stroke=\"#555555\" stroke-width=\"0.0432\" opacity=\"0.6\" d=\"M 2.0,2.0 L 2.0,1.0 L 1.0,1.0 L 1.0,2.0 L 1.0,3.0 L 2.0,3.0 L 2.0,2.0 z\" /></g></svg>"
      ],
      "text/plain": [
       "<shapely.geometry.polygon.Polygon at 0x112bfa198>"
      ]
     },
     "execution_count": 46,
     "metadata": {},
     "output_type": "execute_result"
    }
   ],
   "source": [
    "cascaded_union(\n",
    "    [\n",
    "        square(1,1,2,2),\n",
    "        square(1,2,2,3)\n",
    "    ]\n",
    ")"
   ]
  },
  {
   "cell_type": "code",
   "execution_count": 67,
   "metadata": {},
   "outputs": [],
   "source": [
    "from shapely.geometry import LineString"
   ]
  },
  {
   "cell_type": "markdown",
   "metadata": {},
   "source": [
    "Initial implementation, just testing for correctness."
   ]
  },
  {
   "cell_type": "code",
   "execution_count": 115,
   "metadata": {},
   "outputs": [],
   "source": [
    "def square(minx, maxx, miny, maxy):\n",
    "    return Polygon(\n",
    "        [[minx, miny], [maxx, miny], [maxx, maxy], [minx, maxy]]\n",
    "    )\n",
    "\n",
    "def consolidate(tups):\n",
    "    tot = sum([c[1] for c in tups])\n",
    "    shp = cascaded_union([c[0] for c in tups])\n",
    "    return [(shp, tot)]\n",
    "\n",
    "def split(gdf, nmin):\n",
    "    if len(gdf) <= 1:\n",
    "        return [], []\n",
    "    \n",
    "    min_x, min_y, max_x, max_y = gdf.total_bounds\n",
    "    if len(gdf) < nmin:\n",
    "        return [], [(min_x, max_x, min_y, max_y, len(gdf))]\n",
    "    \n",
    "    mid_x, mid_y = (min_x + max_x) / 2, (min_y + max_y) / 2\n",
    "    lx = gdf.geometry.x < mid_x\n",
    "    rx = ~lx\n",
    "    dy = gdf.geometry.y < mid_y\n",
    "    uy = ~dy\n",
    "    q1 = gdf[rx & uy]\n",
    "    q2 = gdf[lx & uy]\n",
    "    q3 = gdf[lx & dy]\n",
    "    q4 = gdf[rx & dy]\n",
    "\n",
    "    todo, complete = [], []\n",
    "    if len(q1) < nmin:\n",
    "        print('Q1')\n",
    "        complete.append((square(mid_x, max_x, mid_y, max_y), len(q1)))\n",
    "    else:\n",
    "        todo.append(q1)\n",
    "    if len(q2) < nmin:\n",
    "        print('Q2')\n",
    "        print(min_x, mid_x, mid_y, max_y)\n",
    "        complete.append((square(min_x, mid_x, mid_y, max_y), len(q2)))\n",
    "    else:\n",
    "        todo.append(q2)\n",
    "    if len(q3) < nmin:\n",
    "        print('Q3')\n",
    "        complete.append((square(min_x, mid_x, min_y, mid_y), len(q3)))\n",
    "    else:\n",
    "        todo.append(q3)\n",
    "    if len(q4) < nmin:\n",
    "        print('Q4')\n",
    "        print(mid_x, max_x, min_y, mid_y)\n",
    "        complete.append((square(mid_x, max_x, min_y, mid_y), len(q4)))\n",
    "    else:\n",
    "        todo.append(q4)\n",
    "    \n",
    "    if len(complete) == 3:\n",
    "        complete = consolidate(complete)\n",
    "    elif len(complete) == 2:\n",
    "        if type(complete[0][0].intersection(complete[1][0])) is LineString:\n",
    "            complete = consolidate(complete)\n",
    "\n",
    "    return todo, complete"
   ]
  },
  {
   "cell_type": "code",
   "execution_count": 116,
   "metadata": {},
   "outputs": [],
   "source": [
    "todo, complete = split(collisions, 1)"
   ]
  },
  {
   "cell_type": "code",
   "execution_count": 117,
   "metadata": {},
   "outputs": [],
   "source": [
    "from shapely.geometry import Point"
   ]
  },
  {
   "cell_type": "code",
   "execution_count": 118,
   "metadata": {},
   "outputs": [
    {
     "name": "stdout",
     "output_type": "stream",
     "text": [
      "Q2\n",
      "0.0 0.5 0.5 1.0\n",
      "Q4\n",
      "0.5 1.0 0.0 0.5\n"
     ]
    }
   ],
   "source": [
    "todo, complete = split(gpd.GeoDataFrame(geometry=[Point(0, 0), Point(1, 1)]), 1)"
   ]
  },
  {
   "cell_type": "code",
   "execution_count": 119,
   "metadata": {},
   "outputs": [
    {
     "data": {
      "image/svg+xml": [
       "<svg xmlns=\"http://www.w3.org/2000/svg\" xmlns:xlink=\"http://www.w3.org/1999/xlink\" width=\"100.0\" height=\"100.0\" viewBox=\"-0.04 -0.04 1.08 1.08\" preserveAspectRatio=\"xMinYMin meet\"><g transform=\"matrix(1,0,0,-1,0,1.0)\"><g><path fill-rule=\"evenodd\" fill=\"#66cc99\" stroke=\"#555555\" stroke-width=\"0.0216\" opacity=\"0.6\" d=\"M 0.5,0.5 L 1.0,0.5 L 1.0,0.0 L 0.5,0.0 L 0.5,0.5 z\" /><path fill-rule=\"evenodd\" fill=\"#66cc99\" stroke=\"#555555\" stroke-width=\"0.0216\" opacity=\"0.6\" d=\"M 0.5,0.5 L 0.0,0.5 L 0.0,1.0 L 0.5,1.0 L 0.5,0.5 z\" /></g></g></svg>"
      ],
      "text/plain": [
       "<shapely.geometry.multipolygon.MultiPolygon at 0x1121e2a90>"
      ]
     },
     "execution_count": 119,
     "metadata": {},
     "output_type": "execute_result"
    }
   ],
   "source": [
    "cascaded_union([complete[0][0], complete[1][0]])"
   ]
  },
  {
   "cell_type": "code",
   "execution_count": 120,
   "metadata": {},
   "outputs": [
    {
     "name": "stdout",
     "output_type": "stream",
     "text": [
      "Q4\n",
      "0.5 1.0 0.0 0.5\n"
     ]
    }
   ],
   "source": [
    "todo, complete = split(gpd.GeoDataFrame(geometry=[Point(0, 0), Point(0, 1), Point(1, 1)]), 1)"
   ]
  },
  {
   "cell_type": "code",
   "execution_count": 121,
   "metadata": {},
   "outputs": [
    {
     "data": {
      "image/svg+xml": [
       "<svg xmlns=\"http://www.w3.org/2000/svg\" xmlns:xlink=\"http://www.w3.org/1999/xlink\" width=\"100.0\" height=\"100.0\" viewBox=\"0.48 -0.02 0.54 0.54\" preserveAspectRatio=\"xMinYMin meet\"><g transform=\"matrix(1,0,0,-1,0,0.5)\"><path fill-rule=\"evenodd\" fill=\"#66cc99\" stroke=\"#555555\" stroke-width=\"0.0108\" opacity=\"0.6\" d=\"M 0.5,0.0 L 1.0,0.0 L 1.0,0.5 L 0.5,0.5 L 0.5,0.0 z\" /></g></svg>"
      ],
      "text/plain": [
       "<shapely.geometry.polygon.Polygon at 0x112c8ebe0>"
      ]
     },
     "execution_count": 121,
     "metadata": {},
     "output_type": "execute_result"
    }
   ],
   "source": [
    "complete[0][0]"
   ]
  },
  {
   "cell_type": "code",
   "execution_count": 122,
   "metadata": {},
   "outputs": [],
   "source": [
    "todo, complete = split(gpd.GeoDataFrame(geometry=[Point(0, 0)]), 1)"
   ]
  },
  {
   "cell_type": "code",
   "execution_count": 126,
   "metadata": {},
   "outputs": [
    {
     "data": {
      "text/plain": [
       "([], [])"
      ]
     },
     "execution_count": 126,
     "metadata": {},
     "output_type": "execute_result"
    }
   ],
   "source": [
    "todo, complete"
   ]
  },
  {
   "cell_type": "code",
   "execution_count": 128,
   "metadata": {},
   "outputs": [
    {
     "name": "stdout",
     "output_type": "stream",
     "text": [
      "Q1\n",
      "Q2\n",
      "0.0 0.375 0.375 0.75\n",
      "Q4\n",
      "0.375 0.75 0.0 0.375\n"
     ]
    }
   ],
   "source": [
    "todo, complete = split(gpd.GeoDataFrame(\n",
    "    geometry=[Point(0, 0), Point(0.25, 0.25), Point(0.75, 0.75), Point(0.75, 0.25)]\n",
    "), 2)"
   ]
  },
  {
   "cell_type": "code",
   "execution_count": 130,
   "metadata": {},
   "outputs": [
    {
     "data": {
      "image/svg+xml": [
       "<svg xmlns=\"http://www.w3.org/2000/svg\" xmlns:xlink=\"http://www.w3.org/1999/xlink\" width=\"100.0\" height=\"100.0\" viewBox=\"-0.03 -0.03 0.81 0.81\" preserveAspectRatio=\"xMinYMin meet\"><g transform=\"matrix(1,0,0,-1,0,0.75)\"><path fill-rule=\"evenodd\" fill=\"#66cc99\" stroke=\"#555555\" stroke-width=\"0.016200000000000003\" opacity=\"0.6\" d=\"M 0.75,0.375 L 0.75,0.0 L 0.375,0.0 L 0.375,0.375 L 0.0,0.375 L 0.0,0.75 L 0.375,0.75 L 0.75,0.75 L 0.75,0.375 z\" /></g></svg>"
      ],
      "text/plain": [
       "<shapely.geometry.polygon.Polygon at 0x112c40710>"
      ]
     },
     "execution_count": 130,
     "metadata": {},
     "output_type": "execute_result"
    }
   ],
   "source": [
    "complete[0][0]"
   ]
  },
  {
   "cell_type": "markdown",
   "metadata": {},
   "source": [
    "OK, now let's write out to and take from a queue."
   ]
  },
  {
   "cell_type": "code",
   "execution_count": 131,
   "metadata": {},
   "outputs": [],
   "source": [
    "from multiprocessing import Queue"
   ]
  },
  {
   "cell_type": "code",
   "execution_count": 137,
   "metadata": {},
   "outputs": [],
   "source": [
    "def square(minx, maxx, miny, maxy):\n",
    "    return Polygon(\n",
    "        [[minx, miny], [maxx, miny], [maxx, maxy], [minx, maxy]]\n",
    "    )\n",
    "\n",
    "def consolidate(tups):\n",
    "    tot = sum([c[1] for c in tups])\n",
    "    shp = cascaded_union([c[0] for c in tups])\n",
    "    return [(shp, tot)]\n",
    "\n",
    "def split(gdf, nmin):\n",
    "    if len(gdf) <= 1:\n",
    "        return [], []\n",
    "    \n",
    "    min_x, min_y, max_x, max_y = gdf.total_bounds\n",
    "    if len(gdf) < nmin:\n",
    "        return [], [(min_x, max_x, min_y, max_y, len(gdf))]\n",
    "    \n",
    "    mid_x, mid_y = (min_x + max_x) / 2, (min_y + max_y) / 2\n",
    "    lx = gdf.geometry.x < mid_x\n",
    "    rx = ~lx\n",
    "    dy = gdf.geometry.y < mid_y\n",
    "    uy = ~dy\n",
    "    q1 = gdf[rx & uy]\n",
    "    q2 = gdf[lx & uy]\n",
    "    q3 = gdf[lx & dy]\n",
    "    q4 = gdf[rx & dy]\n",
    "\n",
    "    todo, complete = [], []\n",
    "    if len(q1) < nmin:\n",
    "        print('Q1')\n",
    "        complete.append((square(mid_x, max_x, mid_y, max_y), len(q1)))\n",
    "    else:\n",
    "        todo.append(q1)\n",
    "    if len(q2) < nmin:\n",
    "        print('Q2')\n",
    "        print(min_x, mid_x, mid_y, max_y)\n",
    "        complete.append((square(min_x, mid_x, mid_y, max_y), len(q2)))\n",
    "    else:\n",
    "        todo.append(q2)\n",
    "    if len(q3) < nmin:\n",
    "        print('Q3')\n",
    "        complete.append((square(min_x, mid_x, min_y, mid_y), len(q3)))\n",
    "    else:\n",
    "        todo.append(q3)\n",
    "    if len(q4) < nmin:\n",
    "        print('Q4')\n",
    "        print(mid_x, max_x, min_y, mid_y)\n",
    "        complete.append((square(mid_x, max_x, min_y, mid_y), len(q4)))\n",
    "    else:\n",
    "        todo.append(q4)\n",
    "    \n",
    "    if len(complete) == 3:\n",
    "        complete = consolidate(complete)\n",
    "    elif len(complete) == 2:\n",
    "        if type(complete[0][0].intersection(complete[1][0])) is LineString:\n",
    "            complete = consolidate(complete)\n",
    "\n",
    "    return todo, complete\n",
    "\n",
    "\n",
    "def worker():\n",
    "    while True:\n",
    "        try:\n",
    "            task = q.get(timeout=1)\n",
    "            \n",
    "            # do some work\n",
    "            pass\n",
    "            \n",
    "            q.task_done()\n",
    "        except Empty:  # queue.Empty\n",
    "            if e.is_set():\n",
    "                return\n",
    "        \n",
    "\n",
    "def main():\n",
    "    e = multiprocessing.Event()\n",
    "    q = JoinableQueue()\n",
    "    \n",
    "    p = Process(target=worker, args=(q.get(),))\n",
    "    p.start()\n",
    "\n",
    "    q.join()\n",
    "    e.set()\n",
    "    p.join()\n",
    "    print('Done!')"
   ]
  },
  {
   "cell_type": "markdown",
   "metadata": {},
   "source": [
    "Here we discover a problem with the implementation of `multiprocessing.Queue` that's not immediately obvious from our reading. The queue adds objects to the queue using a worker thread separate from the main thread of the process. Even though the documentation claims that the `put` operation blocks on the main thread, but this is bullshit. The main thread continues to run and to execute code before the put thread has a chance to run.\n",
    "\n",
    "This means that we can add a job to the queue and then call our main function and immediately exit because there is nothing in the queue yet. The queue gets garbage collected, *then* the putter thread runs, resulting in a *very* irritating broken pipe error.\n",
    "\n",
    "There is a `join_thread` method available which causes the main thread to wait until all of the put operations are done. However, `join` can *only* be run after `close` is run. `close` locks the queue, e.g. it becomes impossible to `put` any further items on it.\n",
    "\n",
    "The implication: a multiprocessing program using a `Queue` must use it in a two-phase manner. In the first phase, you construct the queue and lock it. In the second phase you run the actual tasks. This is not what we need for `quadtree`; this algorithm requires dynamically adding tasks to the queue as a result of operations on the current task (e.g. this algorithm is implicitly recursive).\n",
    "\n",
    "The API has a `JoinableQueue` object as well, which may do what we want? This is a `Queue` with two additional methods defined: `join` and `task_done`. `task_done` decrements an internal counter that is incremented by each `put` operation; `join` blocks until this counter is at zero, e.g. the queue is empty. This appears to be a safe alternative to `empty`; `empty` is a best-guess. This doesn't solve our problem."
   ]
  },
  {
   "cell_type": "code",
   "execution_count": 171,
   "metadata": {},
   "outputs": [
    {
     "name": "stdout",
     "output_type": "stream",
     "text": [
      "foo\n",
      "Done!\n"
     ]
    }
   ],
   "source": [
    "import multiprocessing as mp\n",
    "from queue import Empty\n",
    "\n",
    "e = mp.Event()\n",
    "q = mp.JoinableQueue()\n",
    "\n",
    "def worker():\n",
    "    while True:\n",
    "        try:\n",
    "            task = q.get(timeout=1)\n",
    "\n",
    "            # do some work\n",
    "            print(task)\n",
    "            \n",
    "            q.task_done()\n",
    "        except Empty:  # queue.Empty\n",
    "            if e.is_set():\n",
    "                return\n",
    "        \n",
    "\n",
    "def main():\n",
    "    q.put('foo')\n",
    "\n",
    "    p = mp.Process(target=worker)\n",
    "    p.start()\n",
    "\n",
    "    q.join()\n",
    "    e.set()\n",
    "    p.join()\n",
    "    print('Done!')\n",
    "\n",
    "main()"
   ]
  },
  {
   "cell_type": "markdown",
   "metadata": {},
   "source": [
    "There are two ways to get the effect we want.\n",
    "\n",
    "This is one of them. Have the worker wait for a task to come up with a timeout. At timeout intervals, poll an `Event` semaphore to check whether or not work has completed. If it hasn't, go back to waiting. If it has, finish up and exit out."
   ]
  },
  {
   "cell_type": "code",
   "execution_count": 172,
   "metadata": {},
   "outputs": [
    {
     "name": "stdout",
     "output_type": "stream",
     "text": [
      "foo\n",
      "bar\n",
      "Done!\n"
     ]
    }
   ],
   "source": [
    "import multiprocessing as mp\n",
    "from queue import Empty\n",
    "\n",
    "e = mp.Event()\n",
    "q = mp.JoinableQueue()\n",
    "\n",
    "def worker():\n",
    "    while True:\n",
    "        task = q.get()\n",
    "\n",
    "        # do some work\n",
    "        if task == 'DONE':\n",
    "            q.task_done()\n",
    "            return\n",
    "        else:\n",
    "            print(task)\n",
    "            q.task_done()\n",
    "        \n",
    "\n",
    "def main():\n",
    "    q.put('foo')\n",
    "    q.put('bar')\n",
    "    q.put('DONE')\n",
    "\n",
    "    p = mp.Process(target=worker)\n",
    "    p.start()\n",
    "\n",
    "    q.join()\n",
    "    e.set()\n",
    "    p.join()\n",
    "    print('Done!')\n",
    "\n",
    "main()"
   ]
  },
  {
   "cell_type": "markdown",
   "metadata": {},
   "source": [
    "The alternative way is to push a sentinel value into the queue. Upon hitting this sentinel value the task exits. This is more efficient than the polling strategy."
   ]
  },
  {
   "cell_type": "code",
   "execution_count": 174,
   "metadata": {},
   "outputs": [
    {
     "name": "stdout",
     "output_type": "stream",
     "text": [
      "foo\n",
      "bar\n",
      "Done!\n"
     ]
    }
   ],
   "source": [
    "import multiprocessing as mp\n",
    "from queue import Empty\n",
    "\n",
    "q = mp.JoinableQueue()\n",
    "\n",
    "def worker():\n",
    "    while True:\n",
    "        task = q.get()\n",
    "\n",
    "        # do some work\n",
    "        if task == 'DONE':\n",
    "            q.task_done()\n",
    "            return\n",
    "        else:\n",
    "            print(task)\n",
    "            q.task_done()\n",
    "        \n",
    "\n",
    "def main():\n",
    "    q.put('foo')\n",
    "    q.put('bar')\n",
    "\n",
    "    p1 = mp.Process(target=worker)\n",
    "    p2 = mp.Process(target=worker)    \n",
    "    p1.start()\n",
    "    p2.start()\n",
    "\n",
    "    q.join()\n",
    "    q.put('DONE')\n",
    "    q.put('DONE')\n",
    "    p1.join()\n",
    "    p2.join()\n",
    "    print('Done!')\n",
    "\n",
    "main()"
   ]
  },
  {
   "cell_type": "markdown",
   "metadata": {},
   "source": [
    "With two processes we flag twice."
   ]
  },
  {
   "cell_type": "code",
   "execution_count": 175,
   "metadata": {},
   "outputs": [],
   "source": [
    "import random"
   ]
  },
  {
   "cell_type": "code",
   "execution_count": 180,
   "metadata": {},
   "outputs": [
    {
     "name": "stdout",
     "output_type": "stream",
     "text": [
      "foo\n",
      "bar\n",
      "another_rand_task\n",
      "another_rand_task\n",
      "another_rand_task\n",
      "another_rand_task\n",
      "Done!\n"
     ]
    }
   ],
   "source": [
    "import multiprocessing as mp\n",
    "from queue import Empty\n",
    "import random\n",
    "\n",
    "q = mp.JoinableQueue()\n",
    "# p1_done = mp.Event()\n",
    "# p2_done = mp.Event()\n",
    "\n",
    "def worker():\n",
    "    while True:\n",
    "        task = q.get()\n",
    "\n",
    "        # do some work\n",
    "        if task == 'DONE':\n",
    "            q.task_done()\n",
    "            return\n",
    "        else:\n",
    "            print(task)\n",
    "            q.task_done()\n",
    "            if random.random() > 0.5:\n",
    "                # does this actually block? docs say yes...\n",
    "                q.put('another_rand_task')\n",
    "\n",
    "\n",
    "def main():\n",
    "    q.put('foo')\n",
    "    q.put('bar')\n",
    "\n",
    "    p1 = mp.Process(target=worker)\n",
    "    p2 = mp.Process(target=worker)    \n",
    "    p1.start()\n",
    "    p2.start()\n",
    "\n",
    "    q.join()\n",
    "    q.put('DONE')\n",
    "    q.put('DONE')\n",
    "    p1.join()\n",
    "    p2.join()\n",
    "    print('Done!')\n",
    "\n",
    "main()"
   ]
  },
  {
   "cell_type": "markdown",
   "metadata": {},
   "source": [
    "Here we see how to manage the queue dynamically using this code structure. This works, assuming `q.put` actually blocks. The documentation *says* it does, so.\n",
    "\n",
    "Anyway, this is still not quite the architecture we want, because a process may still add tasks to the queue after the queue has been emptied.\n",
    "\n",
    "The task is truly complete IFF every other task is also in a blocked waiting state. If even one task is still processing, that task may refill the queue from empty.\n",
    "\n",
    "The only way to keep the workers alive in this case and still support shutdown at task completion is to have the tasks wait until they are *all* blocked. Perhaps something clever can be done here with a `Barrier` object.\n",
    "\n",
    "However, I think this is all unnecessary."
   ]
  },
  {
   "cell_type": "code",
   "execution_count": null,
   "metadata": {},
   "outputs": [],
   "source": [
    "import multiprocessing as mp\n",
    "from queue import Empty\n",
    "import random\n",
    "\n",
    "q = mp.JoinableQueue()\n",
    "b = mp.Barrier(3)\n",
    "# p1_done = mp.Event()\n",
    "# p2_done = mp.Event()\n",
    "\n",
    "def worker(barrier):\n",
    "    while True:\n",
    "        task = q.get()\n",
    "        # do some work\n",
    "        if task == 'DONE':\n",
    "            q.task_done()\n",
    "            return\n",
    "        else:\n",
    "            print(task)\n",
    "            q.task_done()\n",
    "            if random.random() > 0.5:\n",
    "                # does this actually block? docs say yes...\n",
    "                q.put('another_rand_task')\n",
    "\n",
    "\n",
    "def main():\n",
    "    q.put('foo')\n",
    "    q.put('bar')\n",
    "\n",
    "    p1 = mp.Process(target=worker, args=(b,))\n",
    "    p2 = mp.Process(target=worker, args=(b,))\n",
    "    p1.start()\n",
    "    p2.start()\n",
    "\n",
    "    q.join()\n",
    "    q.put('DONE')\n",
    "    q.put('DONE')\n",
    "    p1.join()\n",
    "    p2.join()\n",
    "    print('Done!')\n",
    "\n",
    "main()"
   ]
  }
 ],
 "metadata": {
  "kernelspec": {
   "display_name": "Python 3",
   "language": "python",
   "name": "python3"
  },
  "language_info": {
   "codemirror_mode": {
    "name": "ipython",
    "version": 3
   },
   "file_extension": ".py",
   "mimetype": "text/x-python",
   "name": "python",
   "nbconvert_exporter": "python",
   "pygments_lexer": "ipython3",
   "version": "3.6.7"
  }
 },
 "nbformat": 4,
 "nbformat_minor": 2
}
